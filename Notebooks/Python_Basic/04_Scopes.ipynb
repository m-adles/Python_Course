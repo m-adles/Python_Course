{
 "cells": [
  {
   "cell_type": "markdown",
   "metadata": {},
   "source": [
    "# Introduction to Python  \n",
    "\n",
    "## Scopes\n",
    "\n",
    "### Scopes are defined after a colon (:) and are delimited by the indentation. "
   ]
  },
  {
   "cell_type": "markdown",
   "metadata": {},
   "source": [
    "< scope creation statement>:  \n",
    ".... command  \n",
    ".... command  \n",
    ".... command  \n",
    ".... command  \n",
    "< end of scope>  "
   ]
  },
  {
   "cell_type": "markdown",
   "metadata": {},
   "source": [
    "Scopes are created after the following primitives:  \n",
    "+ _if_  \n",
    "+ _for_  \n",
    "+ _while_  \n",
    "+ _def_  \n",
    "+ _class_  \n",
    "+ _with_  \n",
    "\n"
   ]
  },
  {
   "cell_type": "markdown",
   "metadata": {},
   "source": [
    "***"
   ]
  },
  {
   "cell_type": "markdown",
   "metadata": {},
   "source": [
    "### Nested Scopes in Python"
   ]
  },
  {
   "cell_type": "code",
   "execution_count": 3,
   "metadata": {},
   "outputs": [
    {
     "name": "stdout",
     "output_type": "stream",
     "text": [
      "local2\n",
      "local1\n",
      "global\n"
     ]
    }
   ],
   "source": [
    "x = 'global'\n",
    "\n",
    "def local1():     #If another variable exists with the same name inside the function, the reference before assignment yields an error\n",
    "    #print(x)\n",
    "    x = 'local1'\n",
    "    def local2():\n",
    "        x = 'local2'\n",
    "        #print(x)\n",
    "        print(x) #x prints local2 here becuse it is local2 within the scope of local2\n",
    "    local2()   \n",
    "    print(x) #we closed local2 and are now within local1, so local1 is printed\n",
    "\n",
    "local1()\n",
    "print(x) #now that we closed local1 as well, it prints global because that's what we defined x to be on the global scope\n",
    "#if we had not defined x within the inner scope, it would print the value of x from the nearest outer scope"
   ]
  },
  {
   "cell_type": "markdown",
   "metadata": {},
   "source": [
    "***"
   ]
  },
  {
   "cell_type": "markdown",
   "metadata": {},
   "source": [
    "### Variables and Functions defined in the inner scope:"
   ]
  },
  {
   "cell_type": "code",
   "execution_count": 4,
   "metadata": {},
   "outputs": [
    {
     "name": "stdout",
     "output_type": "stream",
     "text": [
      "What's your name: My_name is Renato\n",
      "What's your name: My name is Pedro\n",
      "What's your name: My name is Pedro\n"
     ]
    },
    {
     "ename": "UnboundLocalError",
     "evalue": "cannot access local variable 'x' where it is not associated with a value",
     "output_type": "error",
     "traceback": [
      "\u001b[0;31m---------------------------------------------------------------------------\u001b[0m",
      "\u001b[0;31mUnboundLocalError\u001b[0m                         Traceback (most recent call last)",
      "\u001b[1;32m/Users/magdalenaadlesgruber/Python_Course/Notebooks/Python_Basic/04_Scopes.ipynb Cell 9\u001b[0m line \u001b[0;36m2\n\u001b[1;32m     <a href='vscode-notebook-cell:/Users/magdalenaadlesgruber/Python_Course/Notebooks/Python_Basic/04_Scopes.ipynb#X11sZmlsZQ%3D%3D?line=15'>16</a>\u001b[0m     \u001b[39mprint\u001b[39m(\u001b[39mf\u001b[39m\u001b[39m'\u001b[39m\u001b[39mWhat\u001b[39m\u001b[39m\\'\u001b[39;00m\u001b[39ms your name: \u001b[39m\u001b[39m{\u001b[39;00mx\u001b[39m}\u001b[39;00m\u001b[39m'\u001b[39m)\n\u001b[1;32m     <a href='vscode-notebook-cell:/Users/magdalenaadlesgruber/Python_Course/Notebooks/Python_Basic/04_Scopes.ipynb#X11sZmlsZQ%3D%3D?line=18'>19</a>\u001b[0m \u001b[39mprint\u001b[39m(\u001b[39mf\u001b[39m\u001b[39m'\u001b[39m\u001b[39mWhat\u001b[39m\u001b[39m\\'\u001b[39;00m\u001b[39ms your name: \u001b[39m\u001b[39m{\u001b[39;00mx\u001b[39m}\u001b[39;00m\u001b[39m'\u001b[39m)\n\u001b[0;32m---> <a href='vscode-notebook-cell:/Users/magdalenaadlesgruber/Python_Course/Notebooks/Python_Basic/04_Scopes.ipynb#X11sZmlsZQ%3D%3D?line=20'>21</a>\u001b[0m x \u001b[39m=\u001b[39m function_main_scope()\n\u001b[1;32m     <a href='vscode-notebook-cell:/Users/magdalenaadlesgruber/Python_Course/Notebooks/Python_Basic/04_Scopes.ipynb#X11sZmlsZQ%3D%3D?line=22'>23</a>\u001b[0m \u001b[39mprint\u001b[39m(\u001b[39mf\u001b[39m\u001b[39m'\u001b[39m\u001b[39mWhat\u001b[39m\u001b[39m\\'\u001b[39;00m\u001b[39ms your name: \u001b[39m\u001b[39m{\u001b[39;00mx\u001b[39m}\u001b[39;00m\u001b[39m'\u001b[39m)\n\u001b[1;32m     <a href='vscode-notebook-cell:/Users/magdalenaadlesgruber/Python_Course/Notebooks/Python_Basic/04_Scopes.ipynb#X11sZmlsZQ%3D%3D?line=24'>25</a>\u001b[0m function_inner_scope()\n",
      "\u001b[1;32m/Users/magdalenaadlesgruber/Python_Course/Notebooks/Python_Basic/04_Scopes.ipynb Cell 9\u001b[0m line \u001b[0;36m1\n\u001b[1;32m     <a href='vscode-notebook-cell:/Users/magdalenaadlesgruber/Python_Course/Notebooks/Python_Basic/04_Scopes.ipynb#X11sZmlsZQ%3D%3D?line=12'>13</a>\u001b[0m     \u001b[39mreturn\u001b[39;00m x\n\u001b[1;32m     <a href='vscode-notebook-cell:/Users/magdalenaadlesgruber/Python_Course/Notebooks/Python_Basic/04_Scopes.ipynb#X11sZmlsZQ%3D%3D?line=13'>14</a>\u001b[0m \u001b[39mprint\u001b[39m(\u001b[39mf\u001b[39m\u001b[39m'\u001b[39m\u001b[39mWhat\u001b[39m\u001b[39m\\'\u001b[39;00m\u001b[39ms your name: \u001b[39m\u001b[39m{\u001b[39;00mx\u001b[39m}\u001b[39;00m\u001b[39m'\u001b[39m)\n\u001b[0;32m---> <a href='vscode-notebook-cell:/Users/magdalenaadlesgruber/Python_Course/Notebooks/Python_Basic/04_Scopes.ipynb#X11sZmlsZQ%3D%3D?line=14'>15</a>\u001b[0m x \u001b[39m=\u001b[39m function_inner_scope()\n\u001b[1;32m     <a href='vscode-notebook-cell:/Users/magdalenaadlesgruber/Python_Course/Notebooks/Python_Basic/04_Scopes.ipynb#X11sZmlsZQ%3D%3D?line=15'>16</a>\u001b[0m \u001b[39mprint\u001b[39m(\u001b[39mf\u001b[39m\u001b[39m'\u001b[39m\u001b[39mWhat\u001b[39m\u001b[39m\\'\u001b[39;00m\u001b[39ms your name: \u001b[39m\u001b[39m{\u001b[39;00mx\u001b[39m}\u001b[39;00m\u001b[39m'\u001b[39m)\n",
      "\u001b[1;32m/Users/magdalenaadlesgruber/Python_Course/Notebooks/Python_Basic/04_Scopes.ipynb Cell 9\u001b[0m line \u001b[0;36m8\n\u001b[1;32m      <a href='vscode-notebook-cell:/Users/magdalenaadlesgruber/Python_Course/Notebooks/Python_Basic/04_Scopes.ipynb#X11sZmlsZQ%3D%3D?line=6'>7</a>\u001b[0m \u001b[39mdef\u001b[39;00m \u001b[39mfunction_inner_scope\u001b[39m():\n\u001b[0;32m----> <a href='vscode-notebook-cell:/Users/magdalenaadlesgruber/Python_Course/Notebooks/Python_Basic/04_Scopes.ipynb#X11sZmlsZQ%3D%3D?line=7'>8</a>\u001b[0m     x\n\u001b[1;32m      <a href='vscode-notebook-cell:/Users/magdalenaadlesgruber/Python_Course/Notebooks/Python_Basic/04_Scopes.ipynb#X11sZmlsZQ%3D%3D?line=8'>9</a>\u001b[0m     \u001b[39mprint\u001b[39m(\u001b[39mf\u001b[39m\u001b[39m'\u001b[39m\u001b[39mWhat\u001b[39m\u001b[39m\\'\u001b[39;00m\u001b[39ms your name: \u001b[39m\u001b[39m{\u001b[39;00mx\u001b[39m}\u001b[39;00m\u001b[39m'\u001b[39m)\n\u001b[1;32m     <a href='vscode-notebook-cell:/Users/magdalenaadlesgruber/Python_Course/Notebooks/Python_Basic/04_Scopes.ipynb#X11sZmlsZQ%3D%3D?line=9'>10</a>\u001b[0m     x \u001b[39m=\u001b[39m \u001b[39m'\u001b[39m\u001b[39mMy name is Leonardo\u001b[39m\u001b[39m'\u001b[39m\n",
      "\u001b[0;31mUnboundLocalError\u001b[0m: cannot access local variable 'x' where it is not associated with a value"
     ]
    }
   ],
   "source": [
    "x = 'My_name is Renato'\n",
    "\n",
    "def function_main_scope():\n",
    "    x = 'My name is Pedro'\n",
    "    print(f'What\\'s your name: {x}')\n",
    "    \n",
    "    def function_inner_scope():\n",
    "        global x\n",
    "        print(f'What\\'s your name: {x}')\n",
    "        x = 'My name is Leonardo'\n",
    "        print(f'What\\'s your name: {x}')\n",
    "        #print(x)\n",
    "        return x\n",
    "    print(f'What\\'s your name: {x}')\n",
    "    x = function_inner_scope()\n",
    "    print(f'What\\'s your name: {x}')\n",
    "    \n",
    "    \n",
    "print(f'What\\'s your name: {x}')\n",
    "\n",
    "x = function_main_scope()\n",
    "\n",
    "print(f'What\\'s your name: {x}')\n",
    "\n",
    "function_inner_scope()   # NameError: name 'function_inner_scope' is not defined"
   ]
  },
  {
   "cell_type": "markdown",
   "metadata": {},
   "source": [
    "***"
   ]
  },
  {
   "cell_type": "markdown",
   "metadata": {},
   "source": [
    "### Functions receive parameters in the tuple \n",
    "    def <name of function>(parameters): \n",
    "### and return them with _return_ or _yield_  "
   ]
  },
  {
   "cell_type": "code",
   "execution_count": 23,
   "metadata": {},
   "outputs": [
    {
     "name": "stdout",
     "output_type": "stream",
     "text": [
      "1\n",
      "3\n"
     ]
    }
   ],
   "source": [
    "x = 1\n",
    "\n",
    "def increase(x):\n",
    "    print(x)\n",
    "    x += 1\n",
    "    \n",
    "    def increase_plus(x):\n",
    "        x += 1\n",
    "        return x\n",
    "    \n",
    "    x = increase_plus(x)\n",
    "    return x\n",
    "\n",
    "x = increase(x)\n",
    "print(x)"
   ]
  },
  {
   "cell_type": "markdown",
   "metadata": {},
   "source": [
    "***"
   ]
  },
  {
   "cell_type": "markdown",
   "metadata": {},
   "source": [
    "### [Global and local variables](https://www.programiz.com/python-programming/global-local-nonlocal-variables)  \n",
    "### Commands _global_ and _nonlocal_  "
   ]
  },
  {
   "cell_type": "code",
   "execution_count": 4,
   "metadata": {},
   "outputs": [
    {
     "name": "stdout",
     "output_type": "stream",
     "text": [
      "After local assignment: The original local spam\n",
      "After nonlocal assignment: this is neither local nor global spam\n",
      "After global assignment: this is neither local nor global spam\n",
      "Printing in global scope: this is the new global spam\n"
     ]
    }
   ],
   "source": [
    "def scope_test():\n",
    "    def do_local():\n",
    "        spam = \"this is the local spam\"\n",
    "        \n",
    "    def do_nonlocal():\n",
    "        nonlocal spam\n",
    "        spam = \"this is neither local nor global spam\"\n",
    "        \n",
    "    def do_global():\n",
    "        global spam\n",
    "        spam = \"this is the new global spam\"\n",
    "        \n",
    "    spam = \"The original local spam\"\n",
    "    \n",
    "    do_local()\n",
    "    print(\"After local assignment:\", spam)\n",
    "    do_nonlocal()\n",
    "    print(\"After nonlocal assignment:\", spam)\n",
    "    do_global()\n",
    "    print(\"After global assignment:\", spam)\n",
    "\n",
    "spam = \"The original global spam\"\n",
    "\n",
    "scope_test()\n",
    "\n",
    "print(\"Printing in global scope:\", spam)"
   ]
  },
  {
   "cell_type": "markdown",
   "metadata": {},
   "source": [
    "#### Another example in a _for_ loop"
   ]
  },
  {
   "cell_type": "code",
   "execution_count": 25,
   "metadata": {},
   "outputs": [
    {
     "name": "stdout",
     "output_type": "stream",
     "text": [
      "0\n",
      "4\n",
      "5\n",
      "6\n",
      "1\n",
      "4\n",
      "5\n",
      "6\n",
      "2\n",
      "4\n",
      "5\n",
      "6\n"
     ]
    }
   ],
   "source": [
    "for same_name in range(3):\n",
    "    print(same_name)\n",
    "    for same_name in range(4,7):\n",
    "        print(same_name)"
   ]
  }
 ],
 "metadata": {
  "kernelspec": {
   "display_name": "Python 3.10.8 64-bit (microsoft store)",
   "language": "python",
   "name": "python3"
  },
  "language_info": {
   "codemirror_mode": {
    "name": "ipython",
    "version": 3
   },
   "file_extension": ".py",
   "mimetype": "text/x-python",
   "name": "python",
   "nbconvert_exporter": "python",
   "pygments_lexer": "ipython3",
   "version": "3.10.8"
  },
  "vscode": {
   "interpreter": {
    "hash": "a3a5d4f9651fa550758ade4a473ec6b18daeb3d63067db8abd62b64f4493ea9c"
   }
  }
 },
 "nbformat": 4,
 "nbformat_minor": 4
}
